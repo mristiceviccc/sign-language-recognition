{
 "cells": [
  {
   "cell_type": "markdown",
   "id": "0ede9769",
   "metadata": {},
   "source": [
    "# PRETPROCESIRANJE "
   ]
  },
  {
   "cell_type": "code",
   "execution_count": 4,
   "id": "ad6d5d2a",
   "metadata": {},
   "outputs": [],
   "source": [
    "from sklearn.model_selection import train_test_split\n",
    "from tensorflow.keras.utils import to_categorical\n",
    "import os\n",
    "import cv2\n",
    "import numpy as np\n",
    "import os\n",
    "from matplotlib import pyplot as plt\n",
    "import time\n",
    "import mediapipe as mp"
   ]
  },
  {
   "cell_type": "code",
   "execution_count": 556,
   "id": "d513b6a7",
   "metadata": {},
   "outputs": [],
   "source": [
    "DATA_PATH = os.path.join('Master_Data - Copy') \n",
    "actions = np.array(['Ja','Mogu','Riba','Sve','Momak','Devojka','Opasno','Kada','Zasto','Hvala'])\n",
    "no_sequences = 20\n",
    "sequence_length = 35\n",
    "label_map = {label:num for num, label in enumerate(actions)}"
   ]
  },
  {
   "cell_type": "markdown",
   "id": "f081f9d0",
   "metadata": {},
   "source": [
    "# Trening, test, validacija skup"
   ]
  },
  {
   "cell_type": "code",
   "execution_count": 557,
   "id": "bc7fc071",
   "metadata": {},
   "outputs": [],
   "source": [
    "# Definisanje osoba po polu\n",
    "genders = ['man', 'woman']\n",
    "persons = {\n",
    "    'man': ['person2', 'person4'],\n",
    "    'woman': ['person1', 'person3', 'person5']\n",
    "}\n",
    "\n",
    "# Podela osoba na trening, test i validaciju\n",
    "train_persons = {'man': ['person2'], 'woman': ['person5', 'person1']}\n",
    "test_persons = {'woman': ['person3'], 'man':[]}\n",
    "validation_persons = {'man': ['person4'], 'woman':[]}\n",
    "\n",
    "\n",
    "sequences_train, labels_train = [], []\n",
    "sequences_test, labels_test = [], []\n",
    "sequences_validation, labels_validation = [], []\n",
    "\n",
    "for gender in genders:\n",
    "    for person in persons[gender]:\n",
    "        for action in actions:\n",
    "            action_path = os.path.join(DATA_PATH, gender, person, action)\n",
    "            if not os.path.exists(action_path):\n",
    "                continue\n",
    "            for sequence in np.array(os.listdir(action_path)).astype(int):\n",
    "                window = []\n",
    "                for frame_num in range(sequence_length):\n",
    "                    res = np.load(os.path.join(action_path, str(sequence), \"{}.npy\".format(frame_num)))\n",
    "                    window.append(res)\n",
    "                if person in train_persons[gender]:\n",
    "                    sequences_train.append(window)\n",
    "                    labels_train.append(label_map[action])\n",
    "                elif person in validation_persons[gender]:\n",
    "                    sequences_validation.append(window)\n",
    "                    labels_validation.append(label_map[action])\n",
    "                elif person in test_persons[gender]:\n",
    "                    sequences_test.append(window)\n",
    "                    labels_test.append(label_map[action])"
   ]
  },
  {
   "cell_type": "code",
   "execution_count": 558,
   "id": "296daa99",
   "metadata": {},
   "outputs": [],
   "source": [
    "X_train = np.array(sequences_train)\n",
    "y_train = to_categorical(labels_train).astype(int)\n",
    "X_test = np.array(sequences_test)\n",
    "y_test = to_categorical(labels_test).astype(int)\n",
    "X_val = np.array(sequences_validation)\n",
    "y_val = to_categorical(labels_validation).astype(int)"
   ]
  },
  {
   "cell_type": "code",
   "execution_count": 3,
   "id": "775a5cdc",
   "metadata": {},
   "outputs": [],
   "source": [
    "#Cuvanje podataka da ne moramo svaki put da ih ucistavamo i razvrsavamo"
   ]
  },
  {
   "cell_type": "code",
   "execution_count": 2,
   "id": "f6a987ca",
   "metadata": {},
   "outputs": [],
   "source": [
    "def save_dataset(path, X_train, y_train, X_val, y_val, X_test, y_test):\n",
    "    np.savez(path,\n",
    "             X_train=X_train, y_train=y_train,\n",
    "             X_val=X_val, y_val=y_val,\n",
    "             X_test=X_test, y_test=y_test)\n",
    "    print(f\"Dataset saved to {path}\")"
   ]
  },
  {
   "cell_type": "code",
   "execution_count": 956,
   "id": "117da686",
   "metadata": {},
   "outputs": [
    {
     "name": "stdout",
     "output_type": "stream",
     "text": [
      "Dataset saved to my_dataset.npz\n"
     ]
    }
   ],
   "source": [
    "save_dataset('my_dataset.npz', X_train, y_train, X_val, y_val, X_test, y_test)"
   ]
  },
  {
   "cell_type": "code",
   "execution_count": 559,
   "id": "b77b745d",
   "metadata": {},
   "outputs": [
    {
     "name": "stdout",
     "output_type": "stream",
     "text": [
      "Training samples: 600\n",
      "Test samples: 200\n",
      "Training class distribution: [60 60 60 60 60 60 60 60 60 60]\n",
      "Test class distribution: [20 20 20 20 20 20 20 20 20 20]\n",
      "Validation samples: 200\n",
      "Val class distribution: [20 20 20 20 20 20 20 20 20 20]\n"
     ]
    }
   ],
   "source": [
    "print('Training samples:', X_train.shape[0])\n",
    "print('Test samples:', X_test.shape[0])\n",
    "print('Training class distribution:', np.bincount(np.argmax(y_train, axis=1)))\n",
    "print('Test class distribution:', np.bincount(np.argmax(y_test, axis=1)))\n",
    "print('Validation samples:', X_val.shape[0])\n",
    "print('Val class distribution:', np.bincount(np.argmax(y_val, axis=1)))"
   ]
  }
 ],
 "metadata": {
  "kernelspec": {
   "display_name": "Python 3 (ipykernel)",
   "language": "python",
   "name": "python3"
  },
  "language_info": {
   "codemirror_mode": {
    "name": "ipython",
    "version": 3
   },
   "file_extension": ".py",
   "mimetype": "text/x-python",
   "name": "python",
   "nbconvert_exporter": "python",
   "pygments_lexer": "ipython3",
   "version": "3.10.9"
  }
 },
 "nbformat": 4,
 "nbformat_minor": 5
}
